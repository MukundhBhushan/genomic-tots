{
 "nbformat": 4,
 "nbformat_minor": 2,
 "metadata": {
  "language_info": {
   "name": "python",
   "codemirror_mode": {
    "name": "ipython",
    "version": 3
   },
   "version": "3.7.5-final"
  },
  "orig_nbformat": 2,
  "file_extension": ".py",
  "mimetype": "text/x-python",
  "name": "python",
  "npconvert_exporter": "python",
  "pygments_lexer": "ipython3",
  "version": 3,
  "kernelspec": {
   "name": "python37564bit19d1faf06e704105bbfc654a451d4bb9",
   "display_name": "Python 3.7.5 64-bit"
  }
 },
 "cells": [
  {
   "cell_type": "code",
   "execution_count": 3,
   "metadata": {},
   "outputs": [],
   "source": [
    "from collections import Counter\n",
    "import random"
   ]
  },
  {
   "cell_type": "code",
   "execution_count": 4,
   "metadata": {},
   "outputs": [],
   "source": [
    "#Gene stuff\n",
    "DNA_Nucleotides = ['A', 'C', 'G', 'T']\n",
    "DNA_ReverseComplement = {'A': 'T', 'T': 'A', 'G': 'C', 'C': 'G'}\n",
    "DNA_Codons = {\n",
    "    # 'M' - START, '_' - STOP\n",
    "    \"GCT\": \"A\", \"GCC\": \"A\", \"GCA\": \"A\", \"GCG\": \"A\",\n",
    "    \"TGT\": \"C\", \"TGC\": \"C\",\n",
    "    \"GAT\": \"D\", \"GAC\": \"D\",\n",
    "    \"GAA\": \"E\", \"GAG\": \"E\",\n",
    "    \"TTT\": \"F\", \"TTC\": \"F\",\n",
    "    \"GGT\": \"G\", \"GGC\": \"G\", \"GGA\": \"G\", \"GGG\": \"G\",\n",
    "    \"CAT\": \"H\", \"CAC\": \"H\",\n",
    "    \"ATA\": \"I\", \"ATT\": \"I\", \"ATC\": \"I\",\n",
    "    \"AAA\": \"K\", \"AAG\": \"K\",\n",
    "    \"TTA\": \"L\", \"TTG\": \"L\", \"CTT\": \"L\", \"CTC\": \"L\", \"CTA\": \"L\", \"CTG\": \"L\",\n",
    "    \"ATG\": \"M\",\n",
    "    \"AAT\": \"N\", \"AAC\": \"N\",\n",
    "    \"CCT\": \"P\", \"CCC\": \"P\", \"CCA\": \"P\", \"CCG\": \"P\",\n",
    "    \"CAA\": \"Q\", \"CAG\": \"Q\",\n",
    "    \"CGT\": \"R\", \"CGC\": \"R\", \"CGA\": \"R\", \"CGG\": \"R\", \"AGA\": \"R\", \"AGG\": \"R\",\n",
    "    \"TCT\": \"S\", \"TCC\": \"S\", \"TCA\": \"S\", \"TCG\": \"S\", \"AGT\": \"S\", \"AGC\": \"S\",\n",
    "    \"ACT\": \"T\", \"ACC\": \"T\", \"ACA\": \"T\", \"ACG\": \"T\",\n",
    "    \"GTT\": \"V\", \"GTC\": \"V\", \"GTA\": \"V\", \"GTG\": \"V\",\n",
    "    \"TGG\": \"W\",\n",
    "    \"TAT\": \"Y\", \"TAC\": \"Y\",\n",
    "    \"TAA\": \"_\", \"TAG\": \"_\", \"TGA\": \"_\"\n",
    "}\n",
    ""
   ]
  },
  {
   "cell_type": "code",
   "execution_count": 5,
   "metadata": {},
   "outputs": [
    {
     "output_type": "stream",
     "name": "stdout",
     "text": "CAGTCCCCTGCTAAAGGAAACGGGTATAGTCACTCTGGAGTATCCGTTGC\n"
    }
   ],
   "source": [
    "# Creating a random DNA sequence for testing:\n",
    "randDNAStr = ''.join([random.choice(DNA_Nucleotides)\n",
    "                      for nuc in range(50)])\n",
    "print(randDNAStr)"
   ]
  },
  {
   "cell_type": "code",
   "execution_count": 6,
   "metadata": {},
   "outputs": [
    {
     "output_type": "stream",
     "name": "stdout",
     "text": "['Q', 'S', 'P', 'A', 'K', 'G', 'N', 'G', 'Y', 'S', 'H', 'S', 'G', 'V', 'S', 'V']\n['S', 'P', 'L', 'L', 'K', 'E', 'T', 'G', 'I', 'V', 'T', 'L', 'E', 'Y', 'P', 'L']\n['V', 'P', 'C', '_', 'R', 'K', 'R', 'V', '_', 'S', 'L', 'W', 'S', 'I', 'R', 'C']\n['A', 'T', 'D', 'T', 'P', 'E', '_', 'L', 'Y', 'P', 'F', 'P', 'L', 'A', 'G', 'D']\n['Q', 'R', 'I', 'L', 'Q', 'S', 'D', 'Y', 'T', 'R', 'F', 'L', '_', 'Q', 'G', 'T']\n['N', 'G', 'Y', 'S', 'R', 'V', 'T', 'I', 'P', 'V', 'S', 'F', 'S', 'R', 'G', 'L']\nammi ['Q', 'S', 'P', 'A', 'K', 'G', 'N', 'G', 'Y', 'S', 'H', 'S', 'G', 'V', 'S', 'V']\n"
    }
   ],
   "source": [
    "def reverse_complement(dnastr):\n",
    "    \"\"\"\n",
    "    Swapping adenine with thymine and guanine with cytosine.\n",
    "    Reversing newly generated string\n",
    "    \"\"\"\n",
    "    return ''.join([DNA_ReverseComplement[nuc] for nuc in dnastr])[::-1]\n",
    "\n",
    "\n",
    "def nucleotide_frequency(dnastr):\n",
    "    \"\"\"Count nucleotides in a given sequence. Return a dictionary\"\"\"\n",
    "    return dict(Counter(dnastr))\n",
    "\n",
    "def transcription(dnastr):\n",
    "    \"\"\"Generating RNA with given DNA sequence by replacing T's with U's\"\"\"\n",
    "    return dnastr.replace('T','U')\n",
    "\n",
    "def gccontent(dnastr):\n",
    "    \"\"\"GC Content in a DNA/RNA sequence\"\"\"\n",
    "    nf = nucleotide_frequency(dnastr)\n",
    "    gcc = (nf['C']+nf['G'])/len(dnastr) \n",
    "    return gcc\n",
    "\n",
    "def gccontent_subseq(dnastr, k=20):\n",
    "    \"\"\"GC Content in a DNA/RNA sub-sequence length k. k=20 by default\"\"\"\n",
    "    f = []\n",
    "    for i in range(0,len(dnastr),k):\n",
    "        d = dnastr[i:i+k]\n",
    "        print(d)\n",
    "        f.append(gccontent(d))\n",
    "    \n",
    "    return f \n",
    "\n",
    "def translate_seq(dnastr, init_pos=0):\n",
    "    \"\"\"Translates a DNA sequence into an aminoacid sequence using the Codons table\"\"\"\n",
    "    #-2 because 50 is not divisible by 3 but 48 is\n",
    "    cod = []\n",
    "    for i in range(init_pos,len(dnastr)-2,3):\n",
    "       cod.append(DNA_Codons[dnastr[i:i+3]])\n",
    "\n",
    "    return cod \n",
    "\n",
    "\n",
    "def codon_usage(dnastr, aminoacid):\n",
    "    \"\"\"Provides the frequency of each codon encoding a given aminoacid in a DNA sequence\"\"\"\n",
    "    tmpList = []\n",
    "    for i in range(0, len(dnastr) - 2, 3):\n",
    "        if DNA_Codons[dnastr[i:i + 3]] == aminoacid:\n",
    "            tmpList.append(dnastr[i:i + 3])\n",
    "\n",
    "    freqDict = dict(Counter(tmpList))\n",
    "    totalWight = sum(freqDict.values())\n",
    "\n",
    "    for seq in freqDict:\n",
    "        freqDict[seq] = round(freqDict[seq] / totalWight, 2)\n",
    "\n",
    "    return freqDict\n",
    "\n",
    "def gen_reading_frames(dnastr):\n",
    "    \"\"\"Generate the six reading frames of a DNA sequence, including reverse complement\"\"\"\n",
    "    frames = []\n",
    "    frames.append(translate_seq(dnastr,0))\n",
    "    frames.append(translate_seq(dnastr,1))\n",
    "    frames.append(translate_seq(dnastr,2))\n",
    "    #reverse DNA for other part \n",
    "    frames.append(translate_seq(reverse_complement(dnastr), 0))\n",
    "    frames.append(translate_seq(reverse_complement(dnastr), 1))\n",
    "    frames.append(translate_seq(reverse_complement(dnastr), 2))\n",
    "    \n",
    "    return frames\n",
    "\n",
    "for i in gen_reading_frames(randDNAStr):\n",
    "    print(i)\n",
    "\n",
    "print(\"ammi\",translate_seq(randDNAStr))"
   ]
  },
  {
   "cell_type": "code",
   "execution_count": 5,
   "metadata": {},
   "outputs": [
    {
     "output_type": "stream",
     "name": "stdout",
     "text": "['L', 'M', 'T', 'A', 'L', 'V', 'V', 'L', 'L', 'R', 'R', 'G', 'S', '_', 'G', 'H']\nsta 1\nsto 13\nMTALVVLLRRGS\n['L', 'M', 'T', 'A', 'L', 'V', 'V', 'L', 'L', 'R', 'R', 'G', 'S', '_', 'G', 'H']\nsta 1\nsto 13\nMTALVVLLRRGS\n['L', 'M', 'T', 'A', 'L', 'V', 'V', 'L', 'L', 'R', 'R', 'G', 'S', '_', 'G', 'H']\nsta 1\nsto 13\nMTALVVLLRRGS\n['MTALVVLLRRGS', 'MTALVVLLRRGS', 'MTALVVLLRRGS']\n"
    }
   ],
   "source": [
    "def proteins_from_rf(dnastr):\n",
    "    \"\"\"Compute all possible proteins in an aminoacid seq and return a list of possible proteins\"\"\"\n",
    "    ff = []\n",
    "    for i in dnastr:\n",
    "        print(i)\n",
    "        try:\n",
    "            sta = i.index('M')\n",
    "            print(\"sta\",sta)\n",
    "        except:\n",
    "            print(\"No m\")\n",
    "        try:\n",
    "            sto = i.index('_')\n",
    "            print(\"sto\",sto)\n",
    "        except:\n",
    "            print('no _')\n",
    "        print(''.join(i[sta:sto]))\n",
    "        ff.append(''.join(i[sta:sto]))\n",
    "    return(ff)\n",
    "\n",
    "\n",
    "test = [\n",
    "    ['L', 'M', 'T', 'A', 'L', 'V', 'V','L', 'L', 'R', 'R', 'G', 'S', '_', 'G', 'H'],\n",
    "    ['L', 'M', 'T', 'A', 'L', 'V', 'V','L', 'L', 'R', 'R', 'G', 'S', '_', 'G', 'H'],\n",
    "    ['L', 'M', 'T', 'A', 'L', 'V', 'V','L', 'L', 'R', 'R', 'G', 'S', '_', 'G', 'H']\n",
    "                 ]\n",
    "\n",
    "print(proteins_from_rf(test))\n",
    "# test_rf_frame = [['L', 'M', 'T', 'A', 'L', 'V', 'V',\n",
    "#                  'L', 'L', 'R', 'R', 'G', 'S', '_', 'G', 'H']]\n",
    "\n",
    "# print(proteins_from_rf(test_rf_frame))"
   ]
  },
  {
   "cell_type": "code",
   "execution_count": null,
   "metadata": {},
   "outputs": [],
   "source": []
  }
 ]
}